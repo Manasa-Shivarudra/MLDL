{
 "cells": [
  {
   "cell_type": "markdown",
   "id": "f9c87342",
   "metadata": {},
   "source": [
    "# 1.1 Write a Python Program(with class concepts) to find the area of the triangle using the below formula.\n",
    "\n",
    "area = (s*(s-a)*(s-b)*(s-c)) ** 0.5\n",
    "\n",
    "s=(a+b+c)/2\n",
    "\n",
    "Function to take the length of the sides of triangle from user should be defined in the parent\n",
    "class and function to calculate the area should be defined in subclass."
   ]
  },
  {
   "cell_type": "code",
   "execution_count": 19,
   "id": "4e9fa6c2",
   "metadata": {},
   "outputs": [
    {
     "name": "stdout",
     "output_type": "stream",
     "text": [
      "a = 4\n",
      "b = 6\n",
      "c = 8\n"
     ]
    },
    {
     "data": {
      "text/plain": [
       "11.61895003862225"
      ]
     },
     "execution_count": 19,
     "metadata": {},
     "output_type": "execute_result"
    }
   ],
   "source": [
    "a = float(input(\"a = \"))\n",
    "b = float(input(\"b = \"))\n",
    "c = float(input(\"c = \"))\n",
    "s=(a+b+c)/2\n",
    "area= float((s * (s - a) * (s - b) * (s - c))) ** 0.5\n",
    "s\n",
    "area"
   ]
  },
  {
   "cell_type": "code",
   "execution_count": 20,
   "id": "d215bb6e",
   "metadata": {},
   "outputs": [
    {
     "name": "stdout",
     "output_type": "stream",
     "text": [
      "Side a = 4\n",
      "Side b = 6\n",
      "Side c = 8\n"
     ]
    },
    {
     "data": {
      "text/plain": [
       "11.61895003862225"
      ]
     },
     "execution_count": 20,
     "metadata": {},
     "output_type": "execute_result"
    }
   ],
   "source": [
    "class triangle_sides():\n",
    "    def __init__(self,a,b,c):\n",
    "        self.a=float(input(\"Side a = \"))\n",
    "        self.b=float(input(\"Side b = \"))\n",
    "        self.c=float(input(\"Side c = \"))\n",
    "        self.area = 0\n",
    "        \n",
    "class area_triangle(triangle_sides):\n",
    "    def calculate_area(self):\n",
    "        s = (self.a + self.b + self.c) / 2\n",
    "        return  float((s * (s - self.a) * (s - self.b) * (s - self.c))) ** 0.5\n",
    "    \n",
    "user_input = area_triangle(a,b,c)\n",
    "user_input.calculate_area()"
   ]
  },
  {
   "cell_type": "markdown",
   "id": "7742925c",
   "metadata": {},
   "source": [
    "# 1.2 Write a function filter_long_words() that takes a list of words and an integer n and returns the list of words that are longer than n."
   ]
  },
  {
   "cell_type": "code",
   "execution_count": 26,
   "id": "c0108684",
   "metadata": {},
   "outputs": [
    {
     "name": "stdout",
     "output_type": "stream",
     "text": [
      "['wordThree', 'wordFour', 'wordFive']\n"
     ]
    }
   ],
   "source": [
    "#implemnetation 1\n",
    "def filter_long_words(List, n):\n",
    "    listofwords =[]\n",
    "    \n",
    "    for i in range(len(List)):\n",
    "        if len(List[i]) > n:\n",
    "            listofwords.append(List[i])\n",
    " \n",
    "    return listofwords\n",
    " \n",
    "inputListOfWords = ['wordOne','wordTwo','wordThree','wordFour','wordFive']\n",
    "inputWordLength = 7\n",
    " \n",
    "print (str(filter_long_words(inputListOfWords,inputWordLength)))   \n",
    "    \n",
    "    "
   ]
  },
  {
   "cell_type": "code",
   "execution_count": 31,
   "id": "70f3799b",
   "metadata": {},
   "outputs": [
    {
     "name": "stdout",
     "output_type": "stream",
     "text": [
      "['hellowrld11', 'hellowrld12', 'hellowrld13', 'hellowrld14']\n"
     ]
    }
   ],
   "source": [
    "#implementation 2\n",
    "def filter_long_words(lst,n):\n",
    "    \n",
    "    return [word for word in lst if len(word)>n]\n",
    "\n",
    "inputListOfWords = ['hello','hellowrld11','hellowrld12','hellowrld13','hellowrld14']\n",
    "inputWordLength = 7\n",
    "\n",
    "print(filter_long_words(inputListOfWords,inputWordLength))"
   ]
  },
  {
   "cell_type": "markdown",
   "id": "095f0cb8",
   "metadata": {},
   "source": [
    "# 2.1 Write a Python program using function concept that maps list of words into a list of integers representing the lengths of the corresponding words.\n",
    "Hint: If a list [ ab,cde,erty] is passed on to the python function output should come as [2,3,4]\n",
    "Here 2,3 and 4 are the lengths of the words in the list."
   ]
  },
  {
   "cell_type": "code",
   "execution_count": 38,
   "id": "b169aaf3",
   "metadata": {},
   "outputs": [
    {
     "data": {
      "text/plain": [
       "[4, 4, 5]"
      ]
     },
     "execution_count": 38,
     "metadata": {},
     "output_type": "execute_result"
    }
   ],
   "source": [
    "lst = [\"help\", \"stop\", \"undo1\"]\n",
    "finlist = []\n",
    "for i in range(len(lst)):\n",
    "    finlist.append(len(lst[i]))\n",
    "finlist"
   ]
  },
  {
   "cell_type": "code",
   "execution_count": 40,
   "id": "30849f5b",
   "metadata": {},
   "outputs": [
    {
     "name": "stdout",
     "output_type": "stream",
     "text": [
      "[5, 11, 11, 11, 12]\n"
     ]
    }
   ],
   "source": [
    "def length_words_list(List):\n",
    "    listofwords =[]\n",
    "    \n",
    "    for i in range(len(List)):\n",
    "            listofwords.append(len(List[i]))\n",
    " \n",
    "    return listofwords\n",
    "\n",
    "inputListOfWords = ['hello','helloworld1','helloworld2','helloworld3','helloworld14']\n",
    "print(length_words_list(inputListOfWords))\n"
   ]
  },
  {
   "cell_type": "markdown",
   "id": "88a89f4a",
   "metadata": {},
   "source": [
    "# 2.2 Write a Python function which takes a character (i.e. a string of length 1) and returns True if it is a vowel, False otherwise."
   ]
  },
  {
   "cell_type": "code",
   "execution_count": 60,
   "id": "d14e38b6",
   "metadata": {},
   "outputs": [
    {
     "name": "stdout",
     "output_type": "stream",
     "text": [
      "Enter a character e\n",
      "True\n"
     ]
    }
   ],
   "source": [
    "a = input(\"Enter a character \")\n",
    "vowels = ['a','e','i','o','u']\n",
    "\n",
    "if a in vowels:\n",
    "        print(True)\n",
    "else:\n",
    "        print(False)\n"
   ]
  },
  {
   "cell_type": "code",
   "execution_count": 61,
   "id": "75e8be2f",
   "metadata": {},
   "outputs": [
    {
     "name": "stdout",
     "output_type": "stream",
     "text": [
      "Enter a character to check e\n",
      "True\n"
     ]
    }
   ],
   "source": [
    "def vowel_check():\n",
    "    charToCheck = input(\"Enter a character to check \")\n",
    "    vowels = ['a','e','i','o','u']\n",
    "    \n",
    "    if a in vowels:\n",
    "        return True\n",
    "    else:\n",
    "        return False\n",
    "    \n",
    "print(vowel_check())\n"
   ]
  },
  {
   "cell_type": "code",
   "execution_count": null,
   "id": "f90065cf",
   "metadata": {},
   "outputs": [],
   "source": []
  }
 ],
 "metadata": {
  "kernelspec": {
   "display_name": "Python 3",
   "language": "python",
   "name": "python3"
  },
  "language_info": {
   "codemirror_mode": {
    "name": "ipython",
    "version": 3
   },
   "file_extension": ".py",
   "mimetype": "text/x-python",
   "name": "python",
   "nbconvert_exporter": "python",
   "pygments_lexer": "ipython3",
   "version": "3.8.8"
  }
 },
 "nbformat": 4,
 "nbformat_minor": 5
}
