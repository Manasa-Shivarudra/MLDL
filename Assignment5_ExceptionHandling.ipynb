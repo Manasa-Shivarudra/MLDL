{
 "cells": [
  {
   "cell_type": "markdown",
   "id": "eacfeb6f",
   "metadata": {},
   "source": [
    "# Write a function to compute 5/0 and use try/except to catch the exceptions"
   ]
  },
  {
   "cell_type": "code",
   "execution_count": 2,
   "id": "2f3d8a72",
   "metadata": {},
   "outputs": [
    {
     "name": "stdout",
     "output_type": "stream",
     "text": [
      "Divide by zero is not possible\n"
     ]
    }
   ],
   "source": [
    "def divide_by_zero():\n",
    "    try:\n",
    "        a= 5/0\n",
    "    except Exception:\n",
    "        print(\"Divide by zero is not possible\")\n",
    "\n",
    "divide_by_zero()"
   ]
  },
  {
   "cell_type": "markdown",
   "id": "ec00dd47",
   "metadata": {},
   "source": [
    "# Implement a Python program to generate all sentences where subject is in\n",
    "[\"Americans\", \"Indians\"] and verb is in [\"Play\", \"watch\"] and the object is in\n",
    "\n",
    "[\"Baseball\",\"cricket\"].\n",
    "\n",
    "Hint: Subject,Verb and Object should be declared in the program as shown below.\n",
    "\n",
    "subjects=[\"Americans \",\"Indians\"]\n",
    "\n",
    "verbs=[\"play\",\"watch\"]\n",
    "\n",
    "objects=[\"Baseball\",\"Cricket\"]\n",
    "\n",
    "Output should come as below:\n",
    "\n",
    "Americans play Baseball.\n",
    "\n",
    "Americans play Cricket.\n",
    "\n",
    "Americans watch Baseball.\n",
    "\n",
    "Indians play Baseball.\n",
    "\n",
    "Indians play Cricket.\n",
    "\n",
    "Indians watch Baseball.\n",
    "\n",
    "Indians watch Cricket.\n"
   ]
  },
  {
   "cell_type": "code",
   "execution_count": 5,
   "id": "b4d90866",
   "metadata": {},
   "outputs": [
    {
     "name": "stdout",
     "output_type": "stream",
     "text": [
      "Ouput:\n",
      "Americans Play Baseball.\n",
      "Americans Play cricket.\n",
      "Americans watch Baseball.\n",
      "Americans watch cricket.\n",
      "Indians Play Baseball.\n",
      "Indians Play cricket.\n",
      "Indians watch Baseball.\n",
      "Indians watch cricket.\n"
     ]
    }
   ],
   "source": [
    "def generate_sentences():\n",
    "    subject = [\"Americans\", \"Indians\"]\n",
    "    verb =  [\"Play\", \"watch\"]\n",
    "    objects = [\"Baseball\",\"cricket\"]\n",
    "    \n",
    "    #list comprehension\n",
    "    sentence = [(Subj+' '+Ver+' '+Obj+\".\") for Subj in subject for Ver in verb for Obj in objects]\n",
    "    \n",
    "    print(\"Ouput:\")\n",
    "    \n",
    "    for s in sentence:\n",
    "        print(s)\n",
    "        \n",
    "generate_sentences()"
   ]
  },
  {
   "cell_type": "code",
   "execution_count": null,
   "id": "4247bb70",
   "metadata": {},
   "outputs": [],
   "source": []
  }
 ],
 "metadata": {
  "kernelspec": {
   "display_name": "Python 3",
   "language": "python",
   "name": "python3"
  },
  "language_info": {
   "codemirror_mode": {
    "name": "ipython",
    "version": 3
   },
   "file_extension": ".py",
   "mimetype": "text/x-python",
   "name": "python",
   "nbconvert_exporter": "python",
   "pygments_lexer": "ipython3",
   "version": "3.8.8"
  }
 },
 "nbformat": 4,
 "nbformat_minor": 5
}
