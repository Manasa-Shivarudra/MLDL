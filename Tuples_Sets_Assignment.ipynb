{
 "cells": [
  {
   "cell_type": "markdown",
   "id": "a6bee88b",
   "metadata": {},
   "source": [
    "# Write a Python Program to implement your own myreduce() function which works exactly like Python's built-in function reduce()"
   ]
  },
  {
   "cell_type": "code",
   "execution_count": 35,
   "id": "7198e731",
   "metadata": {},
   "outputs": [
    {
     "name": "stdout",
     "output_type": "stream",
     "text": [
      "3628800\n"
     ]
    }
   ],
   "source": [
    "#multiplying a list of numbers\n",
    "def myreduce(multiply_even, list_to_multiply):\n",
    "    return x_list\n",
    "\n",
    "def multiply_even(a,b):\n",
    "    return a*b\n",
    "\n",
    "list_to_multiply = [1,2,3,4,5,6,7,8,9,10]\n",
    "x_list = list_to_multiply[0]\n",
    "\n",
    "for i in range(1,len(list_to_multiply)):\n",
    "    iterate = list_to_multiply[i]\n",
    "    x_list = multiply_even(x_list, iterate)\n",
    "print(myreduce(multiply_even, list_to_multiply))"
   ]
  },
  {
   "cell_type": "markdown",
   "id": "13a29355",
   "metadata": {},
   "source": [
    "# Write a Python program to implement your own myfilter() function which works exactly like Python's built-in function filter()"
   ]
  },
  {
   "cell_type": "code",
   "execution_count": 129,
   "id": "bb7c4106",
   "metadata": {},
   "outputs": [
    {
     "name": "stdout",
     "output_type": "stream",
     "text": [
      "[5, 35, 25, 80, 10]\n"
     ]
    }
   ],
   "source": [
    "#Filter function to print the numbers divisible by 5\n",
    "def myfilter(div_by_5, my_list):\n",
    "    return div_by_5()\n",
    "\n",
    "my_list = [4,5,24,35,25,80,10]\n",
    "final_list = []\n",
    "\n",
    "def div_by_5():\n",
    "    for i in my_list:\n",
    "        if(i%5==0):\n",
    "                final_list.append(i)\n",
    "    print(final_list)\n",
    "    \n",
    "myfilter(div_by_5, my_list)"
   ]
  },
  {
   "cell_type": "markdown",
   "id": "911239c9",
   "metadata": {},
   "source": [
    "# Implement List comprehensions to produce the following lists.\n",
    "Write List comprehensions to produce the following Lists\n",
    "\n",
    "['A', 'C', 'A', 'D', 'G', 'I', ’L’, ‘ D’]\n",
    "\n",
    "['x', 'xx', 'xxx', 'xxxx', 'y', 'yy', 'yyy', 'yyyy', 'z', 'zz', 'zzz', 'zzzz']\n",
    "\n",
    "['x', 'y', 'z', 'xx', 'yy', 'zz', 'xxx', 'yyy', 'zzz', 'xxxx', 'yyyy', 'zzzz']\n",
    "\n",
    "[[2], [3], [4], [3], [4], [5], [4], [5], [6]] \n",
    "\n",
    "[[2, 3, 4, 5], [3, 4, 5, 6],[4, 5, 6, 7], [5, 6, 7, 8]]\n",
    "\n",
    "[(1, 1), (2, 1), (3, 1), (1, 2), (2, 2), (3, 2), (1, 3), (2, 3), (3, 3)]"
   ]
  },
  {
   "cell_type": "code",
   "execution_count": 124,
   "id": "eaf5e480",
   "metadata": {},
   "outputs": [
    {
     "name": "stdout",
     "output_type": "stream",
     "text": [
      "['A', 'C', 'A', 'D', 'G', 'I', 'L', 'D']\n",
      "['x', 'xx', 'xxx', 'xxxx', 'y', 'yy', 'yyy', 'yyyy', 'z', 'zz', 'zzz', 'zzzz']\n",
      "['x', 'y', 'z', 'xx', 'yy', 'zz', 'xxx', 'yyy', 'zzz', 'xxxx', 'yyyy', 'zzzz']\n",
      "[[2], [3], [4], [3], [4], [5], [4], [5], [6]]\n",
      "[[2, 3, 4, 5], [3, 4, 5, 6], [4, 5, 6, 7], [5, 6, 7, 8]]\n",
      "[(1, 1), (2, 1), (3, 1), (1, 2), (2, 2), (3, 2), (1, 3), (2, 3), (3, 3)]\n"
     ]
    }
   ],
   "source": [
    "# [expression for item in list]\n",
    "one = list(map(lambda x:x, 'ACADGILD'))\n",
    "print(one)\n",
    "\n",
    "list_two_a = ['x','y','z']\n",
    "two_a = [i*j for i in list_two_a for j in range(1,5)]\n",
    "print(str(two_a))\n",
    "\n",
    "list_two_b = ['x','y','z']\n",
    "two_b = [i*j for i in range(1,5) for j in list_two_b] \n",
    "print(str(two_b))\n",
    "\n",
    "list_three = [2,3,4]\n",
    "three = [ [item+num] for item in list_three for num in range(0,3)]\n",
    "print(str(three))\n",
    "\n",
    "list_four = [2,3,4,5]\n",
    "four = [[item+num for item in list_four] for num in range(0,4)]\n",
    "print(str(four))\n",
    "\n",
    "list_five = [1,2,3]\n",
    "five = [(j,i) for i in list_five for j in range(1,4)]\n",
    "print(str(five))"
   ]
  }
 ],
 "metadata": {
  "kernelspec": {
   "display_name": "Python 3",
   "language": "python",
   "name": "python3"
  },
  "language_info": {
   "codemirror_mode": {
    "name": "ipython",
    "version": 3
   },
   "file_extension": ".py",
   "mimetype": "text/x-python",
   "name": "python",
   "nbconvert_exporter": "python",
   "pygments_lexer": "ipython3",
   "version": "3.8.8"
  }
 },
 "nbformat": 4,
 "nbformat_minor": 5
}
